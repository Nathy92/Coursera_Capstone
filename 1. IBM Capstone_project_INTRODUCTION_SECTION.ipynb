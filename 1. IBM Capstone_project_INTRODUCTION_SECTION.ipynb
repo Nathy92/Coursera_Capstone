{
 "cells": [
  {
   "cell_type": "markdown",
   "metadata": {},
   "source": [
    "# Introduction"
   ]
  },
  {
   "cell_type": "markdown",
   "metadata": {},
   "source": [
    "London is the most beautiful city in the world, where individuals, families and couples want to stay. This city in known for its beauty and attractions. However, individuals, couples and families find it hard to search for appropriate place or hotel to stay. That may not be the only problem this groups are having. Also, they have to keep account of their pockets i.e. the cost of the house or hotel they want stay. Mind you they also have other offers they can consider except from staying in the city of London, which can suit their budget and the space they require for type of apartment. Reasons that make many people love London includes, good services, such as transportation, community services and most importantly security, the freedom to walk free and safe. Good restaurant of that suits your need and adventurous parks.\n",
    "\n",
    "Finding that specific house seems to be a lot of job for individuals and hence it takes time. This is where I come in handy as a data scientist with skills, I have been equipped with by cioursera. I will help people who are struggling to find their desired house in way that, I will use techniques to find their desired house, which suits their need, i.e. budget, safety etc.\n",
    "\n",
    "This project is amaid at helping customers who wants to visit the Lewisham city in order for them to make good decisions on choosing the good apartment or hotel to stay"
   ]
  },
  {
   "cell_type": "code",
   "execution_count": null,
   "metadata": {},
   "outputs": [],
   "source": []
  }
 ],
 "metadata": {
  "kernelspec": {
   "display_name": "Python 3",
   "language": "python",
   "name": "python3"
  },
  "language_info": {
   "codemirror_mode": {
    "name": "ipython",
    "version": 3
   },
   "file_extension": ".py",
   "mimetype": "text/x-python",
   "name": "python",
   "nbconvert_exporter": "python",
   "pygments_lexer": "ipython3",
   "version": "3.7.3"
  }
 },
 "nbformat": 4,
 "nbformat_minor": 2
}
