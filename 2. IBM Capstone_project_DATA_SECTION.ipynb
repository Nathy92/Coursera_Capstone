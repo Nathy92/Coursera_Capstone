{
 "cells": [
  {
   "cell_type": "markdown",
   "metadata": {},
   "source": [
    "# Data used"
   ]
  },
  {
   "cell_type": "markdown",
   "metadata": {},
   "source": [
    "### 1. Foursquare Location Data"
   ]
  },
  {
   "cell_type": "markdown",
   "metadata": {},
   "source": [
    "I will be building an application that will interact with the Foursquare platform. The data used will correspond to the dataset I obtained from www.doogal.co.uk. Which displays the latitude, longitude, postcode etc."
   ]
  },
  {
   "cell_type": "markdown",
   "metadata": {},
   "source": [
    "### 2. Lewisham council postcodes from London"
   ]
  },
  {
   "cell_type": "markdown",
   "metadata": {},
   "source": [
    "#### Example of screenshot\n",
    "#### source code: doogal.co.uk"
   ]
  },
  {
   "cell_type": "code",
   "execution_count": 1,
   "metadata": {},
   "outputs": [
    {
     "data": {
      "text/html": [
       "<div>\n",
       "<style scoped>\n",
       "    .dataframe tbody tr th:only-of-type {\n",
       "        vertical-align: middle;\n",
       "    }\n",
       "\n",
       "    .dataframe tbody tr th {\n",
       "        vertical-align: top;\n",
       "    }\n",
       "\n",
       "    .dataframe thead th {\n",
       "        text-align: right;\n",
       "    }\n",
       "</style>\n",
       "<table border=\"1\" class=\"dataframe\">\n",
       "  <thead>\n",
       "    <tr style=\"text-align: right;\">\n",
       "      <th></th>\n",
       "      <th>Postcode</th>\n",
       "      <th>In Use?</th>\n",
       "      <th>Latitude</th>\n",
       "      <th>Longitude</th>\n",
       "      <th>Easting</th>\n",
       "      <th>Northing</th>\n",
       "      <th>Grid Ref</th>\n",
       "      <th>Ward</th>\n",
       "      <th>Parish</th>\n",
       "      <th>Introduced</th>\n",
       "      <th>Terminated</th>\n",
       "      <th>Altitude</th>\n",
       "      <th>Country</th>\n",
       "      <th>Last Updated</th>\n",
       "      <th>Quality</th>\n",
       "      <th>LSOA Code</th>\n",
       "    </tr>\n",
       "  </thead>\n",
       "  <tbody>\n",
       "    <tr>\n",
       "      <th>0</th>\n",
       "      <td>BR1 4BY</td>\n",
       "      <td>Yes</td>\n",
       "      <td>51.417289</td>\n",
       "      <td>-0.001741</td>\n",
       "      <td>539050</td>\n",
       "      <td>170591</td>\n",
       "      <td>TQ390705</td>\n",
       "      <td>Downham</td>\n",
       "      <td>Lewisham, unparished area</td>\n",
       "      <td>1980-01-01</td>\n",
       "      <td>NaN</td>\n",
       "      <td>35</td>\n",
       "      <td>England</td>\n",
       "      <td>2019-05-29</td>\n",
       "      <td>Within the building of the matched address clo...</td>\n",
       "      <td>E01003235</td>\n",
       "    </tr>\n",
       "    <tr>\n",
       "      <th>1</th>\n",
       "      <td>BR1 4DN</td>\n",
       "      <td>Yes</td>\n",
       "      <td>51.418996</td>\n",
       "      <td>-0.002156</td>\n",
       "      <td>539016</td>\n",
       "      <td>170780</td>\n",
       "      <td>TQ390707</td>\n",
       "      <td>Downham</td>\n",
       "      <td>Lewisham, unparished area</td>\n",
       "      <td>1980-01-01</td>\n",
       "      <td>NaN</td>\n",
       "      <td>35</td>\n",
       "      <td>England</td>\n",
       "      <td>2019-05-29</td>\n",
       "      <td>Within the building of the matched address clo...</td>\n",
       "      <td>E01003235</td>\n",
       "    </tr>\n",
       "    <tr>\n",
       "      <th>2</th>\n",
       "      <td>BR1 4EY</td>\n",
       "      <td>Yes</td>\n",
       "      <td>51.418477</td>\n",
       "      <td>0.005042</td>\n",
       "      <td>539518</td>\n",
       "      <td>170736</td>\n",
       "      <td>TQ395707</td>\n",
       "      <td>Downham</td>\n",
       "      <td>Lewisham, unparished area</td>\n",
       "      <td>1980-01-01</td>\n",
       "      <td>NaN</td>\n",
       "      <td>50</td>\n",
       "      <td>England</td>\n",
       "      <td>2019-05-29</td>\n",
       "      <td>Within the building of the matched address clo...</td>\n",
       "      <td>E01032565</td>\n",
       "    </tr>\n",
       "    <tr>\n",
       "      <th>3</th>\n",
       "      <td>BR1 4FD</td>\n",
       "      <td>Yes</td>\n",
       "      <td>51.421083</td>\n",
       "      <td>-0.002194</td>\n",
       "      <td>539007</td>\n",
       "      <td>171012</td>\n",
       "      <td>TQ390710</td>\n",
       "      <td>Downham</td>\n",
       "      <td>Lewisham, unparished area</td>\n",
       "      <td>2010-01-01</td>\n",
       "      <td>NaN</td>\n",
       "      <td>33</td>\n",
       "      <td>England</td>\n",
       "      <td>2019-05-29</td>\n",
       "      <td>Within the building of the matched address clo...</td>\n",
       "      <td>E01003235</td>\n",
       "    </tr>\n",
       "    <tr>\n",
       "      <th>4</th>\n",
       "      <td>BR1 4JG</td>\n",
       "      <td>Yes</td>\n",
       "      <td>51.419403</td>\n",
       "      <td>-0.000728</td>\n",
       "      <td>539114</td>\n",
       "      <td>170828</td>\n",
       "      <td>TQ391708</td>\n",
       "      <td>Downham</td>\n",
       "      <td>Lewisham, unparished area</td>\n",
       "      <td>1980-01-01</td>\n",
       "      <td>NaN</td>\n",
       "      <td>40</td>\n",
       "      <td>England</td>\n",
       "      <td>2019-05-29</td>\n",
       "      <td>Within the building of the matched address clo...</td>\n",
       "      <td>E01003235</td>\n",
       "    </tr>\n",
       "  </tbody>\n",
       "</table>\n",
       "</div>"
      ],
      "text/plain": [
       "  Postcode In Use?   Latitude  Longitude  Easting  Northing  Grid Ref  \\\n",
       "0  BR1 4BY     Yes  51.417289  -0.001741   539050    170591  TQ390705   \n",
       "1  BR1 4DN     Yes  51.418996  -0.002156   539016    170780  TQ390707   \n",
       "2  BR1 4EY     Yes  51.418477   0.005042   539518    170736  TQ395707   \n",
       "3  BR1 4FD     Yes  51.421083  -0.002194   539007    171012  TQ390710   \n",
       "4  BR1 4JG     Yes  51.419403  -0.000728   539114    170828  TQ391708   \n",
       "\n",
       "      Ward                     Parish  Introduced Terminated  Altitude  \\\n",
       "0  Downham  Lewisham, unparished area  1980-01-01        NaN        35   \n",
       "1  Downham  Lewisham, unparished area  1980-01-01        NaN        35   \n",
       "2  Downham  Lewisham, unparished area  1980-01-01        NaN        50   \n",
       "3  Downham  Lewisham, unparished area  2010-01-01        NaN        33   \n",
       "4  Downham  Lewisham, unparished area  1980-01-01        NaN        40   \n",
       "\n",
       "   Country Last Updated                                            Quality  \\\n",
       "0  England   2019-05-29  Within the building of the matched address clo...   \n",
       "1  England   2019-05-29  Within the building of the matched address clo...   \n",
       "2  England   2019-05-29  Within the building of the matched address clo...   \n",
       "3  England   2019-05-29  Within the building of the matched address clo...   \n",
       "4  England   2019-05-29  Within the building of the matched address clo...   \n",
       "\n",
       "   LSOA Code  \n",
       "0  E01003235  \n",
       "1  E01003235  \n",
       "2  E01032565  \n",
       "3  E01003235  \n",
       "4  E01003235  "
      ]
     },
     "execution_count": 1,
     "metadata": {},
     "output_type": "execute_result"
    }
   ],
   "source": [
    "#1. Import pandas library\n",
    "#2. visit link\n",
    "#3. print head\n",
    "import pandas as pd\n",
    "site_link = 'https://www.doogal.co.uk/AdministrativeAreasCSV.ashx?district=E09000023' \n",
    "Data = pd.read_csv(site_link)\n",
    "Data.head()"
   ]
  },
  {
   "cell_type": "markdown",
   "metadata": {},
   "source": [
    "# Methodology"
   ]
  },
  {
   "cell_type": "markdown",
   "metadata": {},
   "source": [
    "### 1. Machine learning:"
   ]
  },
  {
   "cell_type": "markdown",
   "metadata": {},
   "source": [
    "I will be using the famous K-means clustering to categorise postcodes into different types of clusters based on the venue categories. The data will be segmented into groups that are similar amongst them self, hence the difference will be the occurrence of venue. For the dataset, K-means Clustering will append another column to the dataset which will depict the cluster number, similar sectors will be grouped together."
   ]
  },
  {
   "cell_type": "markdown",
   "metadata": {},
   "source": [
    "### 2. Data Wrangling"
   ]
  },
  {
   "cell_type": "markdown",
   "metadata": {},
   "source": [
    "The data I got contains a lot of data, so to make it short and precise I will use the following columns: postcode, latitude, longitude and ward, to obtain location, hence for those who don’t know the postcode has two parts, i.e. District and sector e.g. (BRQ 4BY)  (District Sector). A new column which contain Sectors is created and added the new column. The data for Lee Green ward is filtered to minimize the calls to Four square API"
   ]
  },
  {
   "cell_type": "markdown",
   "metadata": {},
   "source": [
    "### 3. Exploratory Analysis"
   ]
  },
  {
   "cell_type": "markdown",
   "metadata": {},
   "source": [
    "This city has 18 unique wards; therefore, it is filtered on a single ward as a point of interest namely Lee Green. As explained, postcode is having components, district and sector.\n",
    "\n",
    "We display and plot all the sectors on the map and then 5 unique clusters based on the venue categories provide by the foursquare API data are created Lastly explore the top 5 venues in each sector.\n",
    "\n",
    "The aim of this project is to limit work for individual and find recommendations for the user. We use Foursquare to get many venues, their coordinates and category per section up to 500m radius and then we limit number of venues as 100 for each section"
   ]
  },
  {
   "cell_type": "code",
   "execution_count": null,
   "metadata": {},
   "outputs": [],
   "source": []
  }
 ],
 "metadata": {
  "kernelspec": {
   "display_name": "Python 3",
   "language": "python",
   "name": "python3"
  },
  "language_info": {
   "codemirror_mode": {
    "name": "ipython",
    "version": 3
   },
   "file_extension": ".py",
   "mimetype": "text/x-python",
   "name": "python",
   "nbconvert_exporter": "python",
   "pygments_lexer": "ipython3",
   "version": "3.7.3"
  }
 },
 "nbformat": 4,
 "nbformat_minor": 2
}
